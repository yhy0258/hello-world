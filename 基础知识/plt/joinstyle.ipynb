{
  "cells": [
    {
      "cell_type": "code",
      "execution_count": null,
      "metadata": {
        "collapsed": false
      },
      "outputs": [],
      "source": [
        "%matplotlib inline"
      ]
    },
    {
      "cell_type": "markdown",
      "metadata": {},
      "source": [
        "\n# Join styles\n\n\nIllustrate the three different join styles.\n\n"
      ]
    },
    {
      "cell_type": "code",
      "execution_count": null,
      "metadata": {
        "collapsed": false
      },
      "outputs": [],
      "source": [
        "import numpy as np\nimport matplotlib.pyplot as plt\n\n\ndef plot_angle(ax, x, y, angle, style):\n    phi = np.radians(angle)\n    xx = [x + .5, x, x + .5*np.cos(phi)]\n    yy = [y, y, y + .5*np.sin(phi)]\n    ax.plot(xx, yy, lw=8, color='blue', solid_joinstyle=style)\n    ax.plot(xx[1:], yy[1:], lw=1, color='black')\n    ax.plot(xx[1::-1], yy[1::-1], lw=1, color='black')\n    ax.plot(xx[1:2], yy[1:2], 'o', color='red', markersize=3)\n    ax.text(x, y + .2, '%.0f degrees' % angle)\n\nfig, ax = plt.subplots()\nax.set_title('Join style')\n\nfor x, style in enumerate((('miter', 'round', 'bevel'))):\n    ax.text(x, 5, style)\n    for i in range(5):\n        plot_angle(ax, x, i, pow(2.0, 3 + i), style)\n\nax.set_xlim(-.5, 2.75)\nax.set_ylim(-.5, 5.5)\nplt.show()"
      ]
    },
    {
      "cell_type": "markdown",
      "metadata": {},
      "source": [
        "------------\n\nReferences\n\"\"\"\"\"\"\"\"\"\"\n\nThe use of the following functions, methods, classes and modules is shown\nin this example:\n\n"
      ]
    },
    {
      "cell_type": "code",
      "execution_count": null,
      "metadata": {
        "collapsed": false
      },
      "outputs": [],
      "source": [
        "import matplotlib\nmatplotlib.axes.Axes.plot\nmatplotlib.pyplot.plot"
      ]
    }
  ],
  "metadata": {
    "kernelspec": {
      "display_name": "Python 3",
      "language": "python",
      "name": "python3"
    },
    "language_info": {
      "codemirror_mode": {
        "name": "ipython",
        "version": 3
      },
      "file_extension": ".py",
      "mimetype": "text/x-python",
      "name": "python",
      "nbconvert_exporter": "python",
      "pygments_lexer": "ipython3",
      "version": "3.7.0"
    }
  },
  "nbformat": 4,
  "nbformat_minor": 0
}