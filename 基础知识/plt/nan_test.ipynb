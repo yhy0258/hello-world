{
  "cells": [
    {
      "cell_type": "code",
      "execution_count": null,
      "metadata": {
        "collapsed": false
      },
      "outputs": [],
      "source": [
        "%matplotlib inline"
      ]
    },
    {
      "cell_type": "markdown",
      "metadata": {},
      "source": [
        "\n# Nan Test\n\n\nExample: simple line plots with NaNs inserted.\n\n"
      ]
    },
    {
      "cell_type": "code",
      "execution_count": null,
      "metadata": {
        "collapsed": false
      },
      "outputs": [],
      "source": [
        "import numpy as np\nimport matplotlib.pyplot as plt\n\nt = np.arange(0.0, 1.0 + 0.01, 0.01)\ns = np.cos(2 * 2*np.pi * t)\nt[41:60] = np.nan\n\nplt.subplot(2, 1, 1)\nplt.plot(t, s, '-', lw=2)\n\nplt.xlabel('time (s)')\nplt.ylabel('voltage (mV)')\nplt.title('A sine wave with a gap of NaNs between 0.4 and 0.6')\nplt.grid(True)\n\nplt.subplot(2, 1, 2)\nt[0] = np.nan\nt[-1] = np.nan\nplt.plot(t, s, '-', lw=2)\nplt.title('Also with NaN in first and last point')\n\nplt.xlabel('time (s)')\nplt.ylabel('more nans')\nplt.grid(True)\n\nplt.tight_layout()\nplt.show()"
      ]
    }
  ],
  "metadata": {
    "kernelspec": {
      "display_name": "Python 3",
      "language": "python",
      "name": "python3"
    },
    "language_info": {
      "codemirror_mode": {
        "name": "ipython",
        "version": 3
      },
      "file_extension": ".py",
      "mimetype": "text/x-python",
      "name": "python",
      "nbconvert_exporter": "python",
      "pygments_lexer": "ipython3",
      "version": "3.7.0"
    }
  },
  "nbformat": 4,
  "nbformat_minor": 0
}