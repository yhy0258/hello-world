{
 "cells": [
  {
   "cell_type": "code",
   "execution_count": 1,
   "metadata": {},
   "outputs": [],
   "source": [
    "import matplotlib as mpl\n",
    "import matplotlib.pyplot as plt\n",
    "\n",
    "%matplotlib inline\n",
    "plt.style.use('seaborn-whitegrid')"
   ]
  },
  {
   "cell_type": "code",
   "execution_count": 2,
   "metadata": {},
   "outputs": [],
   "source": [
    "import numpy as np"
   ]
  },
  {
   "cell_type": "code",
   "execution_count": 3,
   "metadata": {},
   "outputs": [],
   "source": [
    "data=np.random.randn(1000)"
   ]
  },
  {
   "cell_type": "code",
   "execution_count": 4,
   "metadata": {},
   "outputs": [
    {
     "name": "stderr",
     "output_type": "stream",
     "text": [
      "D:\\ANACONDA\\lib\\site-packages\\matplotlib\\axes\\_axes.py:6521: MatplotlibDeprecationWarning: \n",
      "The 'normed' kwarg was deprecated in Matplotlib 2.1 and will be removed in 3.1. Use 'density' instead.\n",
      "  alternative=\"'density'\", removal=\"3.1\")\n"
     ]
    },
    {
     "data": {
      "text/plain": [
       "(array([0.00474517, 0.02372586, 0.00949035, 0.01423552, 0.02847104,\n",
       "        0.02847104, 0.07592276, 0.10913897, 0.14710036, 0.25149416,\n",
       "        0.25149416, 0.23725864, 0.37486865, 0.40808486, 0.42232037,\n",
       "        0.43181072, 0.39384934, 0.35588796, 0.30369106, 0.27047485,\n",
       "        0.2087876 , 0.09015828, 0.09490345, 0.09015828, 0.03796138,\n",
       "        0.03321621, 0.02372586, 0.00949035, 0.00949035, 0.00474517]),\n",
       " array([-3.14152928, -2.93078879, -2.72004831, -2.50930783, -2.29856734,\n",
       "        -2.08782686, -1.87708637, -1.66634589, -1.45560541, -1.24486492,\n",
       "        -1.03412444, -0.82338396, -0.61264347, -0.40190299, -0.1911625 ,\n",
       "         0.01957798,  0.23031846,  0.44105895,  0.65179943,  0.86253992,\n",
       "         1.0732804 ,  1.28402088,  1.49476137,  1.70550185,  1.91624234,\n",
       "         2.12698282,  2.3377233 ,  2.54846379,  2.75920427,  2.96994476,\n",
       "         3.18068524]),\n",
       " <a list of 1 Patch objects>)"
      ]
     },
     "execution_count": 4,
     "metadata": {},
     "output_type": "execute_result"
    },
    {
     "data": {
      "image/png": "[encoded data removed]",
      "text/plain": [
       "<Figure size 432x288 with 1 Axes>"
      ]
     },
     "metadata": {
      "needs_background": "light"
     },
     "output_type": "display_data"
    }
   ],
   "source": [
    "plt.hist(data,bins=30,normed=True,alpha=0.5,\n",
    "        histtype='stepfilled',color='steelblue',\n",
    "        edgecolor='none')"
   ]
  },
  {
   "cell_type": "code",
   "execution_count": null,
   "metadata": {},
   "outputs": [],
   "source": []
  }
 ],
 "metadata": {
  "kernelspec": {
   "display_name": "Python 3",
   "language": "python",
   "name": "python3"
  },
  "language_info": {
   "codemirror_mode": {
    "name": "ipython",
    "version": 3
   },
   "file_extension": ".py",
   "mimetype": "text/x-python",
   "name": "python",
   "nbconvert_exporter": "python",
   "pygments_lexer": "ipython3",
   "version": "3.7.3"
  }
 },
 "nbformat": 4,
 "nbformat_minor": 2
}
